{
 "cells": [
  {
   "cell_type": "code",
   "execution_count": 5,
   "metadata": {},
   "outputs": [],
   "source": [
    "import numpy as np\n",
    "import matplotlib.pyplot as plt\n",
    "\n",
    "%matplotlib inline"
   ]
  },
  {
   "cell_type": "code",
   "execution_count": null,
   "metadata": {},
   "outputs": [],
   "source": [
    "# Refs:\n",
    "# - Martinod+ 2021 Applied Optics 60(19), Appendix A"
   ]
  },
  {
   "cell_type": "code",
   "execution_count": 10,
   "metadata": {},
   "outputs": [
    {
     "name": "stdout",
     "output_type": "stream",
     "text": [
      "[[ 0.57735027+0.j  -0.28867513+0.5j -0.28867513+0.5j]\n",
      " [-0.28867513+0.5j  0.57735027+0.j  -0.28867513+0.5j]\n",
      " [-0.28867513+0.5j -0.28867513+0.5j  0.57735027+0.j ]]\n"
     ]
    }
   ],
   "source": [
    "# transfer matrix of tricoupler (Martinod, Eqn. 1)\n",
    "\n",
    "phase_term = np.exp(2.j*np.pi/3.)\n",
    "\n",
    "T_tri = np.sqrt(1./3.) * np.array([[1,          phase_term, phase_term], \n",
    "                                   [phase_term, 1,          phase_term], \n",
    "                                   [phase_term, phase_term, 1]])\n",
    "print(T_tri)\n"
   ]
  }
 ],
 "metadata": {
  "kernelspec": {
   "display_name": "glint_env",
   "language": "python",
   "name": "python3"
  },
  "language_info": {
   "codemirror_mode": {
    "name": "ipython",
    "version": 3
   },
   "file_extension": ".py",
   "mimetype": "text/x-python",
   "name": "python",
   "nbconvert_exporter": "python",
   "pygments_lexer": "ipython3",
   "version": "3.10.9"
  }
 },
 "nbformat": 4,
 "nbformat_minor": 2
}
